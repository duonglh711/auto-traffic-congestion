{
  "nbformat": 4,
  "nbformat_minor": 2,
  "metadata": {
    "accelerator": "GPU",
    "colab": {
      "name": "Thesis - Colab.ipynb",
      "provenance": [],
      "collapsed_sections": []
    },
    "kernelspec": {
      "display_name": "Python 3",
      "name": "python3"
    },
    "language_info": {
      "name": "python"
    }
  },
  "cells": [
    {
      "cell_type": "code",
      "execution_count": null,
      "source": [
        "from IPython.display import clear_output \r\n",
        "from google.colab import drive\r\n",
        "drive.mount('/content/drive')"
      ],
      "outputs": [
        {
          "output_type": "stream",
          "name": "stdout",
          "text": [
            "Mounted at /content/drive\n"
          ]
        }
      ],
      "metadata": {
        "colab": {
          "base_uri": "https://localhost:8080/"
        },
        "id": "Kxa296zGlhxJ",
        "outputId": "e3fec33d-dfcb-49e8-bcb4-27c1c22e8eb4"
      }
    },
    {
      "cell_type": "code",
      "execution_count": null,
      "source": [
        "!nvidia-smi"
      ],
      "outputs": [],
      "metadata": {
        "id": "ZrDLo_ZOWR-K",
        "colab": {
          "base_uri": "https://localhost:8080/"
        },
        "outputId": "e1acb33c-e214-4cbd-993c-4f4c55bab8db"
      }
    },
    {
      "cell_type": "code",
      "execution_count": null,
      "source": [
        "#Set up folder\r\n",
        "%cd /content\r\n",
        "!rm -rf source\r\n",
        "!rm -rf outputs\r\n",
        "!ln -s '/content/drive/MyDrive/ThesisFinal/source' /content/\r\n",
        "!ln -s '/content/drive/MyDrive/ThesisFinal/outputs' /content/\r\n",
        "clear_output()"
      ],
      "outputs": [],
      "metadata": {
        "id": "xfhriz6j7JCy"
      }
    },
    {
      "cell_type": "code",
      "execution_count": null,
      "source": [
        "#Install Package\r\n",
        "!sudo apt install python3-dev python3-pip python3-testresources\r\n",
        "!sudo apt install build-essential cmake pkg-config unzip yasm git checkinstall\r\n",
        "!sudo apt install libjpeg-dev libpng-dev libtiff-dev\r\n",
        "!sudo apt install libavcodec-dev libavformat-dev libswscale-dev libavresample-dev\r\n",
        "!sudo apt install libgstreamer1.0-dev libgstreamer-plugins-base1.0-dev\r\n",
        "!sudo apt install libxvidcore-dev x264 libx264-dev libfaac-dev libmp3lame-dev libtheora-dev\r\n",
        "!sudo apt install libfaac-dev libmp3lame-dev libvorbis-dev\r\n",
        "!sudo apt install libopencore-amrnb-dev libopencore-amrwb-dev\r\n",
        "!sudo apt-get install libgtk-3-dev\r\n",
        "!sudo apt-get install libtbb-dev\r\n",
        "!sudo apt-get install libatlas-base-dev gfortran\r\n",
        "!sudo apt-get install libprotobuf-dev protobuf-compiler\r\n",
        "!sudo apt-get install libgoogle-glog-dev libgflags-dev\r\n",
        "!sudo apt-get install libgphoto2-dev libeigen3-dev libhdf5-dev doxygen\r\n",
        "clear_output()"
      ],
      "outputs": [],
      "metadata": {
        "id": "cdCWGz5bDYM2"
      }
    },
    {
      "cell_type": "code",
      "execution_count": null,
      "source": [
        "#set up opencv\r\n",
        "!rm -rf /content/opencv \r\n",
        "!rm -rf /content/opencv_contrib\r\n",
        "!unzip -o /content/source/cv2/opencv.zip -d /content/\r\n",
        "!unzip -o /content/source/cv2/opencv_contrib.zip -d /content/\r\n",
        "#build opencv\r\n",
        "%cd /content/opencv\r\n",
        "!rm -rf build\r\n",
        "!mkdir build\r\n",
        "%cd build\r\n",
        "!cmake \\\r\n",
        "-D CMAKE_BUILD_TYPE=RELEASE -D CMAKE_C_COMPILER=/usr/bin/gcc-7 \\\r\n",
        "-D CMAKE_INSTALL_PREFIX=/usr/local -D INSTALL_PYTHON_EXAMPLES=ON \\\r\n",
        "-D INSTALL_C_EXAMPLES=ON -D WITH_TBB=ON -D WITH_CUDA=ON -D WITH_CUDNN=ON \\\r\n",
        "-D OPENCV_DNN_CUDA=ON -D CUDA_ARCH_BIN=7.5 -D BUILD_opencv_cudacodec=OFF \\\r\n",
        "-D ENABLE_FAST_MATH=1 -D CUDA_FAST_MATH=1 -D WITH_CUBLAS=1 \\\r\n",
        "-D WITH_V4L=ON -D WITH_QT=OFF -D WITH_OPENGL=ON -D WITH_GSTREAMER=ON \\\r\n",
        "-D WITH_FFMPEG=ON -D OPENCV_GENERATE_PKGCONFIG=ON \\\r\n",
        "-D OPENCV_PC_FILE_NAME=opencv4.pc -D OPENCV_ENABLE_NONFREE=ON \\\r\n",
        "-D OPENCV_EXTRA_MODULES_PATH=/content/opencv_contrib/modules \\\r\n",
        "-D PYTHON_DEFAULT_EXECUTABLE=$(which python3) -D BUILD_EXAMPLES=ON ..\r\n",
        "!unzip -o /content/source/cv2/build75.zip -d /content/opencv\r\n",
        "%cd /content/opencv/build\r\n",
        "!make -j$(nproc)\r\n",
        "!sudo make install\r\n",
        "clear_output()"
      ],
      "outputs": [],
      "metadata": {
        "id": "OCNUTM2mJIqJ"
      }
    },
    {
      "cell_type": "code",
      "execution_count": null,
      "source": [
        "%cd /content/source\r\n",
        "!git pull\r\n",
        "!python thesis.py \\\r\n",
        "  --input '/content/drive/MyDrive/Video/QT.mp4'\\\r\n",
        "    --output '/content/outputs'\\\r\n",
        "      --max_frame 60000 \\\r\n",
        "        --start_minutes 50\\\r\n",
        "          --size 832\\\r\n",
        "           --show_box 1\r\n",
        "clear_output()\r\n",
        "# Parameter:\r\n",
        "# --ccfg: path to camera config file\r\n",
        "# --weights: path to yolov4 weights file\r\n",
        "# --names: path to yolov4 obj name file\r\n",
        "# --configs: path to yolov4 config file\r\n",
        "# --size: resize images to\r\n",
        "# --input: path to input video\r\n",
        "# --output: path to output folder\r\n",
        "# --max_frame: number frame to detect, put -1 to detect all frame\r\n",
        "# --start_minutes: detect from minutes\r\n",
        "# --show_box: 1 is show bounding box"
      ],
      "outputs": [],
      "metadata": {
        "id": "X42LNDQZxWVf"
      }
    }
  ]
}